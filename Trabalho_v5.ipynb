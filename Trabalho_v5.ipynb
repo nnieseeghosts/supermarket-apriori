{
  "nbformat": 4,
  "nbformat_minor": 0,
  "metadata": {
    "colab": {
      "provenance": []
    },
    "kernelspec": {
      "name": "python3",
      "display_name": "Python 3"
    },
    "language_info": {
      "name": "python"
    }
  },
  "cells": [
    {
      "cell_type": "markdown",
      "source": [
        "#Trabalho de Mineração de Dados (PI)"
      ],
      "metadata": {
        "id": "Gkx2fYzWg11H"
      }
    },
    {
      "cell_type": "markdown",
      "source": [
        "#1. Import de Database e Bibliotecas:"
      ],
      "metadata": {
        "id": "Hhrsyp4wg6Dg"
      }
    },
    {
      "cell_type": "code",
      "execution_count": null,
      "metadata": {
        "colab": {
          "base_uri": "https://localhost:8080/"
        },
        "id": "sZ-PuCh7gujh",
        "outputId": "afaac443-0752-410b-99c1-448ec5a51f21"
      },
      "outputs": [
        {
          "output_type": "stream",
          "name": "stdout",
          "text": [
            "Cloning into 'supermarket'...\n",
            "remote: Enumerating objects: 3, done.\u001b[K\n",
            "remote: Counting objects: 100% (3/3), done.\u001b[K\n",
            "remote: Compressing objects: 100% (2/2), done.\u001b[K\n",
            "remote: Total 3 (delta 0), reused 0 (delta 0), pack-reused 0\u001b[K\n",
            "Receiving objects: 100% (3/3), 97.00 KiB | 2.85 MiB/s, done.\n"
          ]
        }
      ],
      "source": [
        "!git clone https://github.com/nnieseeghosts/supermarket.git\n",
        "\n",
        "import pandas as pd\n",
        "import numpy as np\n",
        "import random\n",
        "import itertools"
      ]
    },
    {
      "cell_type": "markdown",
      "source": [
        "#2. Import do supermarket:"
      ],
      "metadata": {
        "id": "_U5ZH2gThKGM"
      }
    },
    {
      "cell_type": "code",
      "source": [
        "sup = pd.read_csv(filepath_or_buffer='/content/supermarket/supermarket.csv')"
      ],
      "metadata": {
        "id": "sGU0FVkxhOS7"
      },
      "execution_count": null,
      "outputs": []
    },
    {
      "cell_type": "markdown",
      "source": [
        "#3. Regras de Associação Apriori:"
      ],
      "metadata": {
        "id": "y78i3v1nhQBd"
      }
    },
    {
      "cell_type": "markdown",
      "source": [
        "#3.1. Definição de limiares:"
      ],
      "metadata": {
        "id": "NugwzoWWhVcu"
      }
    },
    {
      "cell_type": "code",
      "source": [
        "minSuporte = 0.2  # Limiar mínimo de suporte\n",
        "qtd_ant = 4 # Quantidade de antecedentes\n",
        "\n",
        "if qtd_ant == 2:\n",
        "  minConfianca = 0.8 # Limiar mínimo de confiança para antecedentes de 2 colunas\n",
        "elif qtd_ant == 3:\n",
        "  minConfianca = 0.6 # Limiar mínimo de confiança para antecedentes de 3 colunas\n",
        "elif qtd_ant == 4:\n",
        "  minConfianca = 0.5 # Limiar mínimo de confiança para antecedentes de 4 colunas\n",
        "\n",
        "minLift = 1.01  # Limiar mínimo de lift\n",
        "minConv = 1.01  # Limiar mínimo de métrica extra\n"
      ],
      "metadata": {
        "id": "hhqc6AqChYTA"
      },
      "execution_count": null,
      "outputs": []
    },
    {
      "cell_type": "markdown",
      "source": [
        "#3.2. Cálculo dos Suportes:"
      ],
      "metadata": {
        "id": "4twn_sIihc6k"
      }
    },
    {
      "cell_type": "code",
      "source": [
        "#Cálculo dos suportes de todas as colunas\n",
        "suporte = (sup == 't').mean()\n",
        "suporte"
      ],
      "metadata": {
        "colab": {
          "base_uri": "https://localhost:8080/"
        },
        "id": "2fu0q9OthjQ-",
        "outputId": "3239aa8c-3629-4fbb-dd14-98313e47e60a"
      },
      "execution_count": null,
      "outputs": [
        {
          "output_type": "execute_result",
          "data": {
            "text/plain": [
              "department1      0.226281\n",
              "department2      0.028312\n",
              "department3      0.019451\n",
              "department4      0.018154\n",
              "department5      0.037821\n",
              "                   ...   \n",
              "department213    0.004755\n",
              "department214    0.000000\n",
              "department215    0.000000\n",
              "department216    0.000000\n",
              "total            0.000000\n",
              "Length: 217, dtype: float64"
            ]
          },
          "metadata": {},
          "execution_count": 5
        }
      ]
    },
    {
      "cell_type": "code",
      "source": [
        "#Aqui eu separo as colunas com valor superior ao limiar de suporte pré definido\n",
        "colunaslimiar =  suporte[suporte >= minSuporte].index.tolist()\n",
        "colunaslimiar[0]"
      ],
      "metadata": {
        "colab": {
          "base_uri": "https://localhost:8080/",
          "height": 36
        },
        "id": "iOlao4X5hnHC",
        "outputId": "51e8a8ae-eaee-4192-8c2c-79f2063804c0"
      },
      "execution_count": null,
      "outputs": [
        {
          "output_type": "execute_result",
          "data": {
            "text/plain": [
              "'department1'"
            ],
            "application/vnd.google.colaboratory.intrinsic+json": {
              "type": "string"
            }
          },
          "metadata": {},
          "execution_count": 6
        }
      ]
    },
    {
      "cell_type": "markdown",
      "source": [
        "#3.3. Geração de Regras:"
      ],
      "metadata": {
        "id": "BiCFj3PYhqVt"
      }
    },
    {
      "cell_type": "markdown",
      "source": [
        "#3.3.1. Utilzando a Biblioteca Itertools:"
      ],
      "metadata": {
        "id": "7H0VQL7uh3JU"
      }
    },
    {
      "cell_type": "code",
      "source": [
        "comb_iter = itertools.combinations(colunaslimiar, qtd_ant) #Uso a itertools para criar todas as combinações\n",
        "\n",
        "dict_ant_iter = {f'antecedente{i+1}': list(comb) for i, comb in enumerate(comb_iter)} #Salvo todos os valores criados em uma biblioteca"
      ],
      "metadata": {
        "id": "9xXvC_w7hp1x"
      },
      "execution_count": null,
      "outputs": []
    },
    {
      "cell_type": "markdown",
      "source": [
        "#3.3.2. Utilizando a Biblioteca Random:"
      ],
      "metadata": {
        "id": "cL5p1ytIi6vc"
      }
    },
    {
      "cell_type": "code",
      "source": [
        "regras_geradas = 15000 #Esta variável define a quantidade de regras que serão testadas\n",
        "regra = {} #Define a biblioteca regra\n",
        "\n",
        "for i in range(regras_geradas): #Faço um for de i pela quantidade de regras geradas\n",
        "  col_aleatoria = random.sample(colunaslimiar, qtd_ant) #Uso a biblioteca random para gerar regras aleatórias\n",
        "  regra[f'regra{i}'] = col_aleatoria #Salvo na biblioteca\n"
      ],
      "metadata": {
        "id": "ccW1RhfpD7RW"
      },
      "execution_count": null,
      "outputs": []
    },
    {
      "cell_type": "markdown",
      "source": [
        "PS: De acordo com testes, o uso de regras aleatórias se torna mais eficiente neste trabalho em específico, pois a geração de todas as combinações de regra com antecedentes com quantidade de colunas superior a 2 cresce potencialmente, então se gerarmos todas as combinações de antecedentes com 4 colunas utilizand o itertools, obteríamos 1.413.720 combinações, estragando toda a performance do código."
      ],
      "metadata": {
        "id": "MFIBvOsZ_Aq_"
      }
    },
    {
      "cell_type": "markdown",
      "source": [
        "#3.4. Regras de Associação Apriori:"
      ],
      "metadata": {
        "id": "YcB5GgjfG0CJ"
      }
    },
    {
      "cell_type": "markdown",
      "source": [
        "#3.4.1. Confiança:"
      ],
      "metadata": {
        "id": "CLNhRejf_sGH"
      }
    },
    {
      "cell_type": "markdown",
      "source": [
        "A confiança é um número que expressa a possibilidade de um item ser comprado quando outro item correlato é comprado. Por exemplo, qual a confiança que um cliente irá comprar queijo considerando que ele já comprou Pão e margarina.   \n",
        "\n",
        "A confiança é calculada através da seguinte equação:\n",
        "\n",
        "\n",
        "conf(X→Y) = supp(X U Y) / supp(X)\n",
        "\n",
        "Fonte: (https://www.computersciencemaster.com.br/como-funciona-o-algoritmo-apriori/)"
      ],
      "metadata": {
        "id": "6ZBtgEof_8GT"
      }
    },
    {
      "cell_type": "markdown",
      "source": [
        "#3.4.2. Lift:"
      ],
      "metadata": {
        "id": "yUT06Cer_x6-"
      }
    },
    {
      "cell_type": "markdown",
      "source": [
        "Esta medida calcula também a possibilidade de um item ser comprado em relação a outro item. Porém, esta medida considera a popularidade de ambos os itens.\n",
        "\n",
        "lift(X→Y) = supp(X U Y) / supp(X) * supp(Y)\n",
        "\n",
        "Neste cálculo podemos analisar da seguinte forma: se o valor de lift(x→y) > 1 existe uma relação de compra entre estes dois itens. Já se o valor de lift(x→y) < 1 é muito provável que não exista uma relação clara expressa no dataset.\n",
        "\n",
        "Fonte: (https://www.computersciencemaster.com.br/como-funciona-o-algoritmo-apriori/)"
      ],
      "metadata": {
        "id": "KmtFA6orAIrq"
      }
    },
    {
      "cell_type": "markdown",
      "source": [
        "#3.4.3. Convicção:"
      ],
      "metadata": {
        "id": "oW7XBT8c_085"
      }
    },
    {
      "cell_type": "markdown",
      "source": [
        "Outra medida que pode ser calculada é a convicção:\n",
        "\n",
        "conv (x → y) = 1 – supp(y) / 1 – conf(x → y)\n",
        "\n",
        "Essa medida expressa a convicção pode ser interpretado como a razão da freqüência esperada que X ocorre sem Y (isto é, a freqüência que a regra faz uma predição incorreta) se X e Y fossem independentes divididos pela freqüência observada de predições incorretas.\n",
        "\n",
        "Fonte: (https://www.computersciencemaster.com.br/como-funciona-o-algoritmo-apriori/)\n"
      ],
      "metadata": {
        "id": "OM-ndGhyAVU8"
      }
    },
    {
      "cell_type": "markdown",
      "source": [
        "#3.5. Cálculo e Geração de Regras Fortes:"
      ],
      "metadata": {
        "id": "99pxJZG9A1UX"
      }
    },
    {
      "cell_type": "code",
      "source": [
        "regras_fortes_2 = set() #Crio listas de regras fortes com o set de 2 colunas, para garantir que os resultados listados não irão se repetir\n",
        "regras_fortes_3 = set() #Crio listas de regras fortes com o set de 3 colunas, para garantir que os resultados listados não irão se repetir\n",
        "regras_fortes_4 = set() #Crio listas de regras fortes com o set de 4 colunas, para garantir que os resultados listados não irão se repetir\n"
      ],
      "metadata": {
        "id": "K7aAeJSKwUDo"
      },
      "execution_count": null,
      "outputs": []
    },
    {
      "cell_type": "code",
      "source": [
        "if 1< qtd_ant <= 4:  #O código só roda se o valor de colunas de antecedentes for até 4\n",
        "  for i in range (1, len(regra)): #Faz um for do tamanho da quantidade de regras geradas anteriormente\n",
        "    #Cálculo do suporte das colunas definidas\n",
        "    antecedente = regra.get(f'regra{i}') #Pega o valor da regra e transforma na variável antecedente\n",
        "    for x in range (qtd_ant): #Dentro da quantidade de antecedentes, faz outro for para rodar por dentro deste valor\n",
        "      consequente = antecedente[x] #O consequente será a coluna x do antecedente, logo x varia de 0 até a ultima colunas de antecedente\n",
        "      sup_antecedente = (sup[antecedente] == 't').all(axis=1).mean() #Calculo o suporte do antecedente\n",
        "      sup_consequente = (sup[consequente] == 't').mean() #Calculo o suporte do consequente\n",
        "\n",
        "      #Confiança\n",
        "      if sup_antecedente == 0: #Se o suporte for 0, a confiança será 0, isso não ocorrerá pois só usaremos as colunas que estavam no limiar anterior, mas fiz isso para evitar erros\n",
        "        confianca = 0\n",
        "      else:\n",
        "        confianca = sup_antecedente / sup_consequente #Caso não seja 0, aqui se calcula a confiança das colunas\n",
        "\n",
        "      confiancap = round(confianca * 100, 2) #Arredondamos o valor e transformamos em porcentagem, a fim de facilitar o entendimento\n",
        "\n",
        "      if confianca > minConfianca: #Se a confiança estiver de acordo com o limiar a regra continua\n",
        "        consequente_lift = 1 #Criamos uma variável para calcular o lift e damos o valor de 1 para não inteferir a multiplicação\n",
        "        #A utilidade dessa variável é permitir que possamos escolher qtd_antes e fazer o código funcionar sem recisar alterá-lo\n",
        "        for y in range(qtd_ant): #Um for para fazer a multiplicação de todos os consequentes.\n",
        "          consequente_lift *= (sup[antecedente[y]] == 't').mean() #consequente_lift é igual ao próprio valor multiplicado pelo suporte da próxima coluna, isso armazena todas as multiplicações\n",
        "\n",
        "          #Lift\n",
        "        if sup_antecedente == 0: #Caso dê algum erro e o valor do suporte seja 0, lift será 0\n",
        "          lift = 0\n",
        "        else:\n",
        "          lift = sup_antecedente / consequente_lift #Caso contrário, será realizado o cálculo do lift\n",
        "\n",
        "        if lift > minLift: #Se Lift estiver de acordo com o limiar, a regra continua sendo calculada\n",
        "\n",
        "          #Convicção\n",
        "          lista_numerica = [] #Crio uma lista que armazena quais antecedentes não estão sendo utilizados na confiança\n",
        "          lista_colunas = [] #Crio uma lista que armazena quais são as colunas correspondentes\n",
        "          for k in range(qtd_ant): #Para k no valor de antecedentes\n",
        "            lista_numerica.append(k) #Crio uma lista de números\n",
        "          lista_numerica.remove(x) #E tiro o valor correspondente a coluna utilizada na confiança\n",
        "          for s in range(len(lista_numerica)): #Para s na lista numérica\n",
        "            lista_colunas.append(antecedente[lista_numerica[s]]) #Transformo os números em colunas e crio uma lista de colunas que usa todos os antecedentes exceto o que foi utilizado na confiança\n",
        "\n",
        "          suporte_conv = (sup[lista_colunas] == 't').all(axis=1).mean() #Calculo o suporte desta lista\n",
        "\n",
        "          if suporte_conv == 0: #Caso dê algum erro e o valor seja 0, convicção será 0\n",
        "            conviccao = 0\n",
        "          else:\n",
        "            conviccao = (1 - suporte_conv) / (1 - confianca) #Caso contrário, a confiança será calculada\n",
        "\n",
        "          if conviccao > minConv: #Se o confiança estar de acordo com o limiar, essa relação será uma regra forte!\n",
        "            print('A regra gerada foi:', regra[f'regra{i}'])\n",
        "            print(f'Sua confiança {antecedente} -> {consequente} foi de: {confiancap}%')\n",
        "            print(f'O Lift calculado obteve resultado de: {lift:.2f}')\n",
        "            print(f'A convicção da regra é de {conviccao:.2f}')\n",
        "            print('')\n",
        "            print(f'Com isso, podemos dizer que é uma regra forte, pois obteve associações superiores aos limiares definidos.')\n",
        "            print('')\n",
        "\n",
        "            if qtd_ant == 2: #Se a quantidade de colunas antecedentes for 2:\n",
        "              regras_fortes_2.add(tuple(regra[f'regra{i}'])) #Salvo a regra forte no set em formato de tupla\n",
        "            if qtd_ant == 3: #Se a quantidade de colunas antecedentes for 3:\n",
        "              regras_fortes_3.add(tuple(regra[f'regra{i}'])) #Salvo a regra forte no set em formato de tupla\n",
        "            if qtd_ant == 4: #Se a quantidade de colunas antecedentes for 4:\n",
        "              regras_fortes_4.add(tuple(regra[f'regra{i}'])) #Salvo a regra forte no set em formato de tupla\n",
        "else:\n",
        "  print(\"Quantidade de antecedentes superior a 4 ou inferior a 2!\") #Printo isto cajo a quantidade de colunas definidas anteriormente for maior que 4 ou menor que 2"
      ],
      "metadata": {
        "id": "jV05djUSHaj4",
        "colab": {
          "base_uri": "https://localhost:8080/"
        },
        "outputId": "91c83ed4-8a99-4666-806f-9ae891266b40"
      },
      "execution_count": null,
      "outputs": [
        {
          "output_type": "stream",
          "name": "stdout",
          "text": [
            "A regra gerada foi: [\"'canned fruit'\", 'fruit', 'vegetables', \"'bread and cake'\"]\n",
            "Sua confiança [\"'canned fruit'\", 'fruit', 'vegetables', \"'bread and cake'\"] -> 'canned fruit' foi de: 50.19%\n",
            "O Lift calculado obteve resultado de: 1.70\n",
            "A convicção da regra é de 1.23\n",
            "\n",
            "Com isso, podemos dizer que é uma regra forte, pois obteve associações superiores aos limiares definidos.\n",
            "\n"
          ]
        }
      ]
    },
    {
      "cell_type": "markdown",
      "source": [
        "#4. Conclusões:"
      ],
      "metadata": {
        "id": "bN-LG9o6z52g"
      }
    },
    {
      "cell_type": "markdown",
      "source": [
        "#4.1. Conclusões de desconto:"
      ],
      "metadata": {
        "id": "TQC3NcZ10cgS"
      }
    },
    {
      "cell_type": "markdown",
      "source": [
        "De acordo com conhecimento empírico, podemos concluir que setores com 75% de compra são considerados presentes em todos os carrinhos, e uma promoção não iria fazer tanta diferença, já que mesmo sem promoção o produto vende na grande maioria dos casos."
      ],
      "metadata": {
        "id": "aDaTFAyQ0h0h"
      }
    },
    {
      "cell_type": "markdown",
      "source": [
        "E setores com menos de 40% de venda são considerados dependentes e/ou não tão escolhidos, então acredito que setores com valores superiores a 40% e até 60% de conversão em venda são os ideais para serem colocados em desconto, isto é, promoções singulares (Do tipo \"Em compras acima de 2 produtos\", desconto de preços convencionais, etc) que não dependem de outro produto para entrar em desconto."
      ],
      "metadata": {
        "id": "mDgo9WGW01Va"
      }
    },
    {
      "cell_type": "code",
      "source": [
        "minSuporteConclusao = 0.4 #Defino o limiar mínimo\n",
        "maxSuporteConclusao = 0.6 #Defino o limiar máximo\n",
        "\n",
        "for a in range (len(colunaslimiar)): #Em a no tamanho da variável colunas limiar:\n",
        "  sup_conclusao = (sup[colunaslimiar[a]] == 't').mean() #Calcula o suporte das colunas\n",
        "  if maxSuporteConclusao >= sup_conclusao >= minSuporteConclusao: #Separa os suportes dentro dos limiares\n",
        "    print(f'Seria de interesse do mercado a promoção do produto/setor {colunaslimiar[a]}') #Printa quais produtos/setores deveriam ser descontados"
      ],
      "metadata": {
        "colab": {
          "base_uri": "https://localhost:8080/"
        },
        "id": "eBzgu36C0gvl",
        "outputId": "f20f5930-a01c-4443-86be-7e22edab7335"
      },
      "execution_count": null,
      "outputs": [
        {
          "output_type": "stream",
          "name": "stdout",
          "text": [
            "Seria de interesse do mercado a promoção do produto/setor juice-sat-cord-ms\n",
            "Seria de interesse do mercado a promoção do produto/setor biscuits\n",
            "Seria de interesse do mercado a promoção do produto/setor 'breakfast food'\n",
            "Seria de interesse do mercado a promoção do produto/setor sauces-gravy-pkle\n",
            "Seria de interesse do mercado a promoção do produto/setor 'frozen foods'\n",
            "Seria de interesse do mercado a promoção do produto/setor 'pet foods'\n",
            "Seria de interesse do mercado a promoção do produto/setor 'party snack foods'\n",
            "Seria de interesse do mercado a promoção do produto/setor 'tissues-paper prd'\n",
            "Seria de interesse do mercado a promoção do produto/setor 'soft drinks'\n",
            "Seria de interesse do mercado a promoção do produto/setor cheese\n",
            "Seria de interesse do mercado a promoção do produto/setor margarine\n",
            "Seria de interesse do mercado a promoção do produto/setor department137\n"
          ]
        }
      ]
    },
    {
      "cell_type": "markdown",
      "source": [
        "Especificamente falando:\n",
        "\n",
        "* Na compra de 2 pacotes da mesma marca na seção 'biscuits', a terceira sai com 20% de desconto (Incentivando a compra de pelo menos 3 pacotes, assim como no atacado)\n",
        "* A partir de 300g de queijo o valor sai com 10% de desconto.\n",
        "* E em setores de compra de unidades de produto como 'juice-sat-cord-ms', -tissues-paper prd' e outros, caberia uma promoção generalizada dos produtos."
      ],
      "metadata": {
        "id": "Fsm3M8PK3kgE"
      }
    },
    {
      "cell_type": "markdown",
      "source": [
        "#4.2. Conclusões de setores de alto retorno:"
      ],
      "metadata": {
        "id": "504PwfBB47LV"
      }
    },
    {
      "cell_type": "code",
      "source": [
        "minSupAltoRetorno = 0.636 #Defino um limiar com o intuito de obter apenas os produtos de alta conversão\n",
        "\n",
        "for a in range (len(colunaslimiar)): #Para a no tamanho da variável colunaslimiar\n",
        "  sup_conclusao = (sup[colunaslimiar[a]] == 't').mean() #Calculo o suporte das colunas\n",
        "  if sup_conclusao >= minSupAltoRetorno: #Se estiver dentro do limiar\n",
        "    print(f'Seria de interesse do mercado a localização estratégica do produto/setor {colunaslimiar[a]}') #Printo os setores de alta conversão"
      ],
      "metadata": {
        "colab": {
          "base_uri": "https://localhost:8080/"
        },
        "id": "LPeMnJxC4_IP",
        "outputId": "7981fcd9-323f-4bd9-f19e-71b8eac7c474"
      },
      "execution_count": null,
      "outputs": [
        {
          "output_type": "stream",
          "name": "stdout",
          "text": [
            "Seria de interesse do mercado a localização estratégica do produto/setor 'bread and cake'\n",
            "Seria de interesse do mercado a localização estratégica do produto/setor fruit\n",
            "Seria de interesse do mercado a localização estratégica do produto/setor vegetables\n"
          ]
        }
      ]
    },
    {
      "cell_type": "markdown",
      "source": [
        "Assim como na maioria dos mercados, as padarias e hortifruits são sempre localizadas no final do supermerdado, pois como produtos deste setor são sempre os mais comprados, os clientes vão ir de qualquer jeito até lá, então quanto maior o caminho, mais produtos eles verão."
      ],
      "metadata": {
        "id": "ycRdgMel5X6q"
      }
    },
    {
      "cell_type": "markdown",
      "source": [
        "#4.3. Conclusões com listas de regras fortes:"
      ],
      "metadata": {
        "id": "vM3Nf-p40Mnv"
      }
    },
    {
      "cell_type": "markdown",
      "source": [
        "#4.3.1. Regras de 2 colunas"
      ],
      "metadata": {
        "id": "LtpJRpw-0RAi"
      }
    },
    {
      "cell_type": "code",
      "source": [
        "regras_fortes_2"
      ],
      "metadata": {
        "colab": {
          "base_uri": "https://localhost:8080/"
        },
        "id": "FzksWGns0VcP",
        "outputId": "488de13b-3c7d-4c64-80b6-9fb4d02fa55f"
      },
      "execution_count": null,
      "outputs": [
        {
          "output_type": "execute_result",
          "data": {
            "text/plain": [
              "{(\"'bread and cake'\", \"'canned fruit'\"),\n",
              " (\"'bread and cake'\", 'jams-spreads'),\n",
              " (\"'bread and cake'\", 'margarine'),\n",
              " (\"'canned fish-meat'\", \"'bread and cake'\"),\n",
              " (\"'small goods'\", \"'bread and cake'\"),\n",
              " ('jams-spreads', \"'bread and cake'\")}"
            ]
          },
          "metadata": {},
          "execution_count": 71
        }
      ]
    },
    {
      "cell_type": "markdown",
      "source": [
        "Como o setor 'bread and cake' foi o único que apareceu em todas, da para concluir que os outros itens são comprados em conformidade com a compra deste item.\n",
        "\n",
        "Com isso podemos concluir que:\n",
        "* Como a compra de pãe já é de alta conversão, em comprar a partir de 6 pães ou o equivalente em gramas, categorias como 'jams-spreads' terão desconto de 10%\n",
        "* Como a margarina em nossa cultura ja é bastante utilizada com pães, ao invés de desconto, seria interessante deixá-los próximos aos pães, bem como itens da categoria 'small goods'."
      ],
      "metadata": {
        "id": "uNSl_Dyu4j9s"
      }
    },
    {
      "cell_type": "markdown",
      "source": [
        "#4.3.2. Regras com 3 colunas:"
      ],
      "metadata": {
        "id": "KmE6KbQq63tW"
      }
    },
    {
      "cell_type": "code",
      "source": [
        "regras_fortes_3"
      ],
      "metadata": {
        "colab": {
          "base_uri": "https://localhost:8080/"
        },
        "id": "SCiFqh6763TD",
        "outputId": "76cf9fe8-30d1-4ceb-8e4c-92259aa86c23"
      },
      "execution_count": null,
      "outputs": [
        {
          "output_type": "execute_result",
          "data": {
            "text/plain": [
              "{(\"'bread and cake'\", 'vegetables', 'fruit'),\n",
              " (\"'canned fruit'\", 'fruit', \"'bread and cake'\"),\n",
              " (\"'small goods'\", 'fruit', \"'bread and cake'\"),\n",
              " (\"'small goods'\", 'vegetables', \"'bread and cake'\"),\n",
              " ('beef', \"'bread and cake'\", 'vegetables'),\n",
              " ('vegetables', \"'canned vegetables'\", \"'bread and cake'\")}"
            ]
          },
          "metadata": {},
          "execution_count": 80
        }
      ]
    },
    {
      "cell_type": "markdown",
      "source": [
        "Como a maioria das associações são relacionadas aos conjuntos de itens de Padaria e Hortifruit, seria interessante o posicionamento estratégico dos setores não só no fim do mercado, mas com distâncias entre si também, por exeplo:\n",
        "\n",
        "* Enquanto a entrada fica na posição inferior centrar do supermercado, o Hortifruit fica na posição superior esquerda e a Padaria na posição superior direita, fazendo com que os clientes transitem mais ainda pelo mercado, aumentando a compra de diversos outros itens que também já foram colocados em promoção nas propostas anteriores."
      ],
      "metadata": {
        "id": "_410iy7x7OZ0"
      }
    },
    {
      "cell_type": "markdown",
      "source": [
        "#4.3.3. Regras com 4 colunas:"
      ],
      "metadata": {
        "id": "ZIGggMxE0Y13"
      }
    },
    {
      "cell_type": "code",
      "source": [
        "regras_fortes_4"
      ],
      "metadata": {
        "colab": {
          "base_uri": "https://localhost:8080/"
        },
        "id": "b6PYt_Vg0Kwq",
        "outputId": "cae769a9-0fbe-473b-beec-f049c04c2351"
      },
      "execution_count": null,
      "outputs": [
        {
          "output_type": "execute_result",
          "data": {
            "text/plain": [
              "{(\"'canned fruit'\", 'fruit', 'vegetables', \"'bread and cake'\")}"
            ]
          },
          "metadata": {},
          "execution_count": 89
        }
      ]
    },
    {
      "cell_type": "markdown",
      "source": [
        "Bem como citado anteriormente, se sobressai a relação destes setores nos carrinhos, mas com a relação de 'canned fruit' podemos dizer que também seria interessantes a realocação deste setor entre o Hortifruit e a Padaria, e além disso descontar seu valor unitariamente ou com relação a comprar em 'bread and cake', já que o uso de frutas frescas ou enlatadas é sim relacionado com a compra de bolos."
      ],
      "metadata": {
        "id": "PMfAw97K-gXO"
      }
    }
  ]
}