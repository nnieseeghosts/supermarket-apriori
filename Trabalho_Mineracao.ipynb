{
  "nbformat": 4,
  "nbformat_minor": 0,
  "metadata": {
    "colab": {
      "provenance": []
    },
    "kernelspec": {
      "name": "python3",
      "display_name": "Python 3"
    },
    "language_info": {
      "name": "python"
    }
  },
  "cells": [
    {
      "cell_type": "markdown",
      "source": [
        "#Trabalho de Mineração de Dados (PI)"
      ],
      "metadata": {
        "id": "-AZNgPu9TZvq"
      }
    },
    {
      "cell_type": "markdown",
      "source": [
        "#1. Import de repositório de de bibliotecas"
      ],
      "metadata": {
        "id": "avvx7qZhTe_4"
      }
    },
    {
      "cell_type": "code",
      "execution_count": 1,
      "metadata": {
        "colab": {
          "base_uri": "https://localhost:8080/"
        },
        "id": "ouJ4RFRYO1IW",
        "outputId": "096c53e6-8449-4369-9f18-82ee54e9f464"
      },
      "outputs": [
        {
          "output_type": "stream",
          "name": "stdout",
          "text": [
            "Cloning into 'supermarket'...\n",
            "remote: Enumerating objects: 3, done.\u001b[K\n",
            "remote: Counting objects: 100% (3/3), done.\u001b[K\n",
            "remote: Compressing objects: 100% (2/2), done.\u001b[K\n",
            "remote: Total 3 (delta 0), reused 0 (delta 0), pack-reused 0\u001b[K\n",
            "Receiving objects: 100% (3/3), 97.00 KiB | 735.00 KiB/s, done.\n"
          ]
        }
      ],
      "source": [
        "!git clone https://github.com/anticr1sto/supermarket.git"
      ]
    },
    {
      "cell_type": "code",
      "source": [
        "import pandas as pd\n",
        "import numpy as np\n",
        "import random\n",
        "import itertools"
      ],
      "metadata": {
        "id": "IdfFCdptTX9w"
      },
      "execution_count": 38,
      "outputs": []
    },
    {
      "cell_type": "markdown",
      "source": [
        "#2. Import de DataSet"
      ],
      "metadata": {
        "id": "PZmOZna2TlM3"
      }
    },
    {
      "cell_type": "code",
      "source": [
        "supermarket = pd.read_csv(filepath_or_buffer='/content/supermarket/supermarket.csv')"
      ],
      "metadata": {
        "id": "IZ2-b64PTuzq"
      },
      "execution_count": 3,
      "outputs": []
    },
    {
      "cell_type": "markdown",
      "source": [
        "#3. Regras de Associação A priori"
      ],
      "metadata": {
        "id": "r971bWVcT4cv"
      }
    },
    {
      "cell_type": "markdown",
      "source": [
        "#3.1. Conceitos básicos"
      ],
      "metadata": {
        "id": "-GY8sIHAUJOU"
      }
    },
    {
      "cell_type": "code",
      "source": [
        "minSuporte = 0.2  # Limiar mínimo de suporte\n",
        "minConfianca = 0.8  # Limiar mínimo de confiança\n",
        "minLift = 0.1  # Limiar mínimo de lift\n",
        "minExtra = 0.1  # Limiar mínimo de métrica extra\n",
        "qtdantes = 2 # Quantidade de antecedentes\n"
      ],
      "metadata": {
        "id": "eC6p_xPnZ3RE"
      },
      "execution_count": 93,
      "outputs": []
    },
    {
      "cell_type": "code",
      "source": [
        "#Depois irei calcular os suportes de todas as colunas\n",
        "suporte = (supermarket == 't').mean()\n",
        "suporte"
      ],
      "metadata": {
        "colab": {
          "base_uri": "https://localhost:8080/"
        },
        "id": "8MYnfgsqa7zu",
        "outputId": "f4b581dd-02ee-401c-9323-2c40d6d9826b"
      },
      "execution_count": 111,
      "outputs": [
        {
          "output_type": "execute_result",
          "data": {
            "text/plain": [
              "department1      0.226281\n",
              "department2      0.028312\n",
              "department3      0.019451\n",
              "department4      0.018154\n",
              "department5      0.037821\n",
              "                   ...   \n",
              "department213    0.004755\n",
              "department214    0.000000\n",
              "department215    0.000000\n",
              "department216    0.000000\n",
              "total            0.000000\n",
              "Length: 217, dtype: float64"
            ]
          },
          "metadata": {},
          "execution_count": 111
        }
      ]
    },
    {
      "cell_type": "code",
      "source": [
        "#Aqui eu separo as colunas com valor superior ao limiar de suporte pré definido\n",
        "colunaslimiar =  suporte[suporte >= minSuporte].index.tolist()\n",
        "colunaslimiar[0]"
      ],
      "metadata": {
        "id": "wa0rnj3hbNFi"
      },
      "execution_count": null,
      "outputs": []
    },
    {
      "cell_type": "markdown",
      "source": [
        "#3.2. Regras geradas"
      ],
      "metadata": {
        "id": "OhkOfZxzdB1z"
      }
    },
    {
      "cell_type": "markdown",
      "source": [
        "#Combinações de antecedente e consequente"
      ],
      "metadata": {
        "id": "Sv1a4Jod7uVX"
      }
    },
    {
      "cell_type": "code",
      "source": [
        "combinacoes = itertools.combinations(colunaslimiar, qtdantes) #Uso a itertools para criar todas as combinações\n",
        "\n",
        "dicionarioant = {f'antecedente{i+1}': list(comb) for i, comb in enumerate(combinacoes)} #Salvo todos os valores criados em uma biblioteca\n"
      ],
      "metadata": {
        "id": "gXcq6jLI1_0v"
      },
      "execution_count": 94,
      "outputs": []
    },
    {
      "cell_type": "markdown",
      "source": [
        "#Confiança"
      ],
      "metadata": {
        "id": "hNBA2JmZj_JA"
      }
    },
    {
      "cell_type": "code",
      "source": [
        "for i in range (1, len(dicionarioant)):\n",
        "  #Cálculo do suporte das colunas definidas\n",
        "  antesseta = dicionarioant.get(f'antecedente{i}')\n",
        "  for x in range (qtdantes):\n",
        "    depoisseta = antesseta[x]\n",
        "    suporteantesseta = (supermarket[antesseta] == 't').all(axis=1).mean()\n",
        "    suportedaregra = (supermarket[depoisseta] == 't').mean()\n",
        "\n",
        "    #Confiança\n",
        "    if suporteantesseta == 0:\n",
        "      conf = 0\n",
        "    else:\n",
        "      conf = suporteantesseta / suportedaregra\n",
        "\n",
        "    if conf > minConfianca:\n",
        "      print(f'A confiança da regra {antesseta} -> {depoisseta} é: {conf*100:.2f}%') #Printo a confiança"
      ],
      "metadata": {
        "id": "e0Wo_ICFh9Kv",
        "colab": {
          "base_uri": "https://localhost:8080/"
        },
        "outputId": "9f5e5989-919f-420c-8fbc-ef369714b074"
      },
      "execution_count": 124,
      "outputs": [
        {
          "output_type": "stream",
          "name": "stdout",
          "text": [
            "A confiança da regra [\"'bread and cake'\", \"'canned fish-meat'\"] -> 'canned fish-meat' é: 80.13%\n",
            "A confiança da regra [\"'bread and cake'\", \"'canned fruit'\"] -> 'canned fruit' é: 81.06%\n",
            "A confiança da regra [\"'bread and cake'\", 'jams-spreads'] -> jams-spreads é: 80.36%\n",
            "A confiança da regra [\"'bread and cake'\", 'margarine'] -> margarine é: 80.03%\n",
            "A confiança da regra [\"'bread and cake'\", \"'small goods'\"] -> 'small goods' é: 83.51%\n"
          ]
        }
      ]
    },
    {
      "cell_type": "code",
      "source": [
        "antes = [\"'bread and cake'\", \"'canned fish-meat'\"]\n",
        "depois = [\"'canned fish-meat'\"]\n",
        "a = (supermarket[antesseta] == 't').all(axis=1).mean()\n",
        "b = (supermarket[depois] == 't').all(axis=1).mean()\n",
        "c = a/b\n",
        "c"
      ],
      "metadata": {
        "colab": {
          "base_uri": "https://localhost:8080/"
        },
        "id": "B0t41UJT9oNP",
        "outputId": "72787ed2-bb40-4534-c6f1-02e3b5559fcb"
      },
      "execution_count": 128,
      "outputs": [
        {
          "output_type": "execute_result",
          "data": {
            "text/plain": [
              "0.583421891604676"
            ]
          },
          "metadata": {},
          "execution_count": 128
        }
      ]
    },
    {
      "cell_type": "markdown",
      "source": [
        "#Lift"
      ],
      "metadata": {
        "id": "91mBPjX_kAxR"
      }
    },
    {
      "cell_type": "code",
      "source": [
        "suporteantesseta = (supermarket[antesseta] == 't').all(axis=1).mean()\n",
        "suportedepoisseta = (supermarket[depoisseta] == 't').mean()\n",
        "suportedaregra = ((supermarket[antesseta] == 't') & (supermarket[depoisseta] == 't')).all(axis=1).mean()\n",
        "\n",
        "# Calcular o lift\n",
        "if suporteantesseta.any() and suportedepoisseta.any():\n",
        "    lift = suportedaregra / (suporteantesseta * suportedepoisseta)\n",
        "else:\n",
        "    lift = 0\n",
        "\n",
        "# Exibir o lift calculado\n",
        "liftformatado = \"{:.2f}\".format(float(lift.iloc[0]))\n",
        "print(f'O lift da regra {antesseta} -> {depoisseta} é: {liftformatado}')"
      ],
      "metadata": {
        "colab": {
          "base_uri": "https://localhost:8080/"
        },
        "id": "osqD7Y8RiWWB",
        "outputId": "7119527e-7748-44cf-b72a-58a71a6f302a"
      },
      "execution_count": null,
      "outputs": [
        {
          "output_type": "stream",
          "name": "stdout",
          "text": [
            "O lift da regra ['department1', 'department2'] -> ['department1'] é: 125.05\n"
          ]
        }
      ]
    }
  ]
}