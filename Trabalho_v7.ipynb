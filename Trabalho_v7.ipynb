{
  "nbformat": 4,
  "nbformat_minor": 0,
  "metadata": {
    "colab": {
      "provenance": []
    },
    "kernelspec": {
      "name": "python3",
      "display_name": "Python 3"
    },
    "language_info": {
      "name": "python"
    }
  },
  "cells": [
    {
      "cell_type": "markdown",
      "source": [
        "#Trabalho de Mineração de Dados (PI)"
      ],
      "metadata": {
        "id": "Gkx2fYzWg11H"
      }
    },
    {
      "cell_type": "markdown",
      "source": [
        "#1. Import de Database e Bibliotecas:"
      ],
      "metadata": {
        "id": "Hhrsyp4wg6Dg"
      }
    },
    {
      "cell_type": "code",
      "execution_count": 37,
      "metadata": {
        "colab": {
          "base_uri": "https://localhost:8080/"
        },
        "id": "sZ-PuCh7gujh",
        "outputId": "c248b67b-5778-4aa4-8140-70ddcc3936a5"
      },
      "outputs": [
        {
          "output_type": "stream",
          "name": "stdout",
          "text": [
            "fatal: destination path 'supermarket' already exists and is not an empty directory.\n"
          ]
        }
      ],
      "source": [
        "!git clone https://github.com/nnieseeghosts/supermarket.git\n",
        "\n",
        "import pandas as pd\n",
        "import numpy as np\n",
        "import random\n",
        "import itertools"
      ]
    },
    {
      "cell_type": "markdown",
      "source": [
        "#2. Import do supermarket:"
      ],
      "metadata": {
        "id": "_U5ZH2gThKGM"
      }
    },
    {
      "cell_type": "code",
      "source": [
        "sup = pd.read_csv(filepath_or_buffer='/content/supermarket/supermarket.csv')"
      ],
      "metadata": {
        "id": "sGU0FVkxhOS7"
      },
      "execution_count": 38,
      "outputs": []
    },
    {
      "cell_type": "markdown",
      "source": [
        "#3. Regras de Associação Apriori:"
      ],
      "metadata": {
        "id": "y78i3v1nhQBd"
      }
    },
    {
      "cell_type": "markdown",
      "source": [
        "#3.1. Definição de limiares:"
      ],
      "metadata": {
        "id": "NugwzoWWhVcu"
      }
    },
    {
      "cell_type": "code",
      "source": [
        "minSuporte = 0.2  # Limiar mínimo de suporte\n",
        "qtd_ant = 4 # Quantidade de antecedentes\n",
        "minConfianca = 0.75 #Limiar mínimo de Confiança\n",
        "minLift = 1.01  # Limiar mínimo de lift\n",
        "minConv = 1.01  # Limiar mínimo de métrica extra\n"
      ],
      "metadata": {
        "id": "hhqc6AqChYTA"
      },
      "execution_count": 58,
      "outputs": []
    },
    {
      "cell_type": "markdown",
      "source": [
        "#3.2. Cálculo dos Suportes:"
      ],
      "metadata": {
        "id": "4twn_sIihc6k"
      }
    },
    {
      "cell_type": "code",
      "source": [
        "#Cálculo dos suportes de todas as colunas\n",
        "suporte = (sup == 't').mean()\n",
        "suporte"
      ],
      "metadata": {
        "colab": {
          "base_uri": "https://localhost:8080/"
        },
        "id": "2fu0q9OthjQ-",
        "outputId": "0383ab54-be77-4312-e155-dc96de5c4ef6"
      },
      "execution_count": 40,
      "outputs": [
        {
          "output_type": "execute_result",
          "data": {
            "text/plain": [
              "department1      0.226281\n",
              "department2      0.028312\n",
              "department3      0.019451\n",
              "department4      0.018154\n",
              "department5      0.037821\n",
              "                   ...   \n",
              "department213    0.004755\n",
              "department214    0.000000\n",
              "department215    0.000000\n",
              "department216    0.000000\n",
              "total            0.000000\n",
              "Length: 217, dtype: float64"
            ]
          },
          "metadata": {},
          "execution_count": 40
        }
      ]
    },
    {
      "cell_type": "code",
      "source": [
        "#Aqui eu separo as colunas com valor superior ao limiar de suporte pré definido\n",
        "colunaslimiar =  suporte[suporte >= minSuporte].index.tolist()\n",
        "colunaslimiar[0]"
      ],
      "metadata": {
        "colab": {
          "base_uri": "https://localhost:8080/",
          "height": 36
        },
        "id": "iOlao4X5hnHC",
        "outputId": "3df0b5fd-362e-492d-ea2d-5eb5853320dd"
      },
      "execution_count": 41,
      "outputs": [
        {
          "output_type": "execute_result",
          "data": {
            "text/plain": [
              "'department1'"
            ],
            "application/vnd.google.colaboratory.intrinsic+json": {
              "type": "string"
            }
          },
          "metadata": {},
          "execution_count": 41
        }
      ]
    },
    {
      "cell_type": "markdown",
      "source": [
        "#3.3. Geração de Regras:"
      ],
      "metadata": {
        "id": "BiCFj3PYhqVt"
      }
    },
    {
      "cell_type": "markdown",
      "source": [
        "#3.3.1. Utilzando a Biblioteca Itertools:"
      ],
      "metadata": {
        "id": "7H0VQL7uh3JU"
      }
    },
    {
      "cell_type": "code",
      "source": [
        "comb_iter = itertools.combinations(colunaslimiar, qtd_ant) #Uso a itertools para criar todas as combinações\n",
        "\n",
        "dict_ant_iter = {f'antecedente{i+1}': list(comb) for i, comb in enumerate(comb_iter)} #Salvo todos os valores criados em uma biblioteca"
      ],
      "metadata": {
        "id": "9xXvC_w7hp1x"
      },
      "execution_count": 42,
      "outputs": []
    },
    {
      "cell_type": "markdown",
      "source": [
        "#3.3.2. Utilizando a Biblioteca Random:"
      ],
      "metadata": {
        "id": "cL5p1ytIi6vc"
      }
    },
    {
      "cell_type": "code",
      "source": [
        "regras_geradas = 100 #Esta variável define a quantidade de regras que serão testadas\n",
        "regra = {} #Define a biblioteca regra\n",
        "\n",
        "for i in range(regras_geradas): #Faço um for de i pela quantidade de regras geradas\n",
        "  col_aleatoria = random.sample(colunaslimiar, qtd_ant) #Uso a biblioteca random para gerar regras aleatórias\n",
        "  regra[f'regra{i}'] = col_aleatoria #Salvo na biblioteca\n"
      ],
      "metadata": {
        "id": "ccW1RhfpD7RW"
      },
      "execution_count": 59,
      "outputs": []
    },
    {
      "cell_type": "markdown",
      "source": [
        "PS: De acordo com testes, o uso de regras aleatórias se torna mais eficiente neste trabalho em específico, pois a geração de todas as combinações de regra com antecedentes com quantidade de colunas superior a 2 cresce potencialmente, então se gerarmos todas as combinações de antecedentes com 4 colunas utilizand o itertools, obteríamos 1.413.720 combinações, estragando toda a performance do código."
      ],
      "metadata": {
        "id": "MFIBvOsZ_Aq_"
      }
    },
    {
      "cell_type": "markdown",
      "source": [
        "#3.4. Regras de Associação Apriori:"
      ],
      "metadata": {
        "id": "YcB5GgjfG0CJ"
      }
    },
    {
      "cell_type": "markdown",
      "source": [
        "#3.4.1. Confiança:"
      ],
      "metadata": {
        "id": "CLNhRejf_sGH"
      }
    },
    {
      "cell_type": "markdown",
      "source": [
        "A confiança é um número que expressa a possibilidade de um item ser comprado quando outro item correlato é comprado. Por exemplo, qual a confiança que um cliente irá comprar queijo considerando que ele já comprou Pão e margarina.   \n",
        "\n",
        "A confiança é calculada através da seguinte equação:\n",
        "\n",
        "\n",
        "conf(X→Y) = supp(X U Y) / supp(X)\n",
        "\n",
        "Fonte: (https://www.computersciencemaster.com.br/como-funciona-o-algoritmo-apriori/)"
      ],
      "metadata": {
        "id": "6ZBtgEof_8GT"
      }
    },
    {
      "cell_type": "markdown",
      "source": [
        "#3.4.2. Lift:"
      ],
      "metadata": {
        "id": "yUT06Cer_x6-"
      }
    },
    {
      "cell_type": "markdown",
      "source": [
        "Esta medida calcula também a possibilidade de um item ser comprado em relação a outro item. Porém, esta medida considera a popularidade de ambos os itens.\n",
        "\n",
        "lift(X→Y) = supp(X U Y) / supp(X) * supp(Y)\n",
        "\n",
        "Neste cálculo podemos analisar da seguinte forma: se o valor de lift(x→y) > 1 existe uma relação de compra entre estes dois itens. Já se o valor de lift(x→y) < 1 é muito provável que não exista uma relação clara expressa no dataset.\n",
        "\n",
        "Fonte: (https://www.computersciencemaster.com.br/como-funciona-o-algoritmo-apriori/)"
      ],
      "metadata": {
        "id": "KmtFA6orAIrq"
      }
    },
    {
      "cell_type": "markdown",
      "source": [
        "#3.4.3. Convicção:"
      ],
      "metadata": {
        "id": "oW7XBT8c_085"
      }
    },
    {
      "cell_type": "markdown",
      "source": [
        "Outra medida que pode ser calculada é a convicção:\n",
        "\n",
        "conv (x → y) = 1 – supp(y) / 1 – conf(x → y)\n",
        "\n",
        "Essa medida expressa a convicção pode ser interpretado como a razão da freqüência esperada que X ocorre sem Y (isto é, a freqüência que a regra faz uma predição incorreta) se X e Y fossem independentes divididos pela freqüência observada de predições incorretas.\n",
        "\n",
        "Fonte: (https://www.computersciencemaster.com.br/como-funciona-o-algoritmo-apriori/)\n"
      ],
      "metadata": {
        "id": "OM-ndGhyAVU8"
      }
    },
    {
      "cell_type": "markdown",
      "source": [
        "#3.5. Cálculo e Geração de Regras Fortes:"
      ],
      "metadata": {
        "id": "99pxJZG9A1UX"
      }
    },
    {
      "cell_type": "code",
      "source": [
        "def combinacoes_3(sequencia):\n",
        "    combinacoes = []\n",
        "    for i in range(1, 3):\n",
        "        for j in range(len(sequencia) - i + 1):\n",
        "            combinacoes.append(sequencia[j:j+i])\n",
        "    combinacoesunicas = set(combinacoes)\n",
        "    return list(combinacoesunicas)\n",
        "\n",
        "def combinacoes_4(sequencia):\n",
        "    combinacoes = []\n",
        "    for i in range(1, 4):\n",
        "        for j in range(len(sequencia) - i + 1):\n",
        "            combinacoes.append(sequencia[j:j+i])\n",
        "    combinacoesunicas = set(combinacoes)\n",
        "    return list(combinacoesunicas)"
      ],
      "metadata": {
        "id": "ShjmGqYO4YJN"
      },
      "execution_count": 60,
      "outputs": []
    },
    {
      "cell_type": "code",
      "source": [
        "antecedente = regra.get(f'regra{1}')"
      ],
      "metadata": {
        "id": "FoiH_UCR4dsv"
      },
      "execution_count": 45,
      "outputs": []
    },
    {
      "cell_type": "code",
      "source": [
        "sequencia = tuple(antecedente)\n",
        "combinacoes = combinacoes_3(sequencia)\n",
        "\n",
        "listacon = []\n",
        "\n",
        "for combinacao in combinacoes:\n",
        "    listacon.append(combinacao)\n",
        "print(listacon)"
      ],
      "metadata": {
        "id": "odDdlrCP19ZT",
        "colab": {
          "base_uri": "https://localhost:8080/"
        },
        "outputId": "4da7d4d5-4b38-44ce-9a0a-e04532265bf5"
      },
      "execution_count": 46,
      "outputs": [
        {
          "output_type": "stream",
          "name": "stdout",
          "text": [
            "[('cleaners-polishers',), ('cleaners-polishers', \"'canned fruit'\"), (\"'canned fruit'\",)]\n"
          ]
        }
      ]
    },
    {
      "cell_type": "code",
      "source": [
        "regras_fortes_2 = set() #Crio listas de regras fortes com o set de 2 colunas, para garantir que os resultados listados não irão se repetir\n",
        "regras_fortes_3 = set() #Crio listas de regras fortes com o set de 3 colunas, para garantir que os resultados listados não irão se repetir\n",
        "regras_fortes_4 = set() #Crio listas de regras fortes com o set de 4 colunas, para garantir que os resultados listados não irão se repetir\n"
      ],
      "metadata": {
        "id": "K7aAeJSKwUDo"
      },
      "execution_count": 47,
      "outputs": []
    },
    {
      "cell_type": "code",
      "source": [
        "if 1< qtd_ant <= 4:  #O código só roda se o valor de colunas de antecedentes for até 4\n",
        "  for i in range (1, len(regra)): #Faz um for do tamanho da quantidade de regras geradas anteriormente\n",
        "    #Cálculo do suporte das colunas definidas\n",
        "    antecedente = regra.get(f'regra{i}') #Pega o valor da regra e transforma na variável antecedente\n",
        "    consequente = tuple(antecedente)\n",
        "    if qtd_ant == 3:\n",
        "      combinacoes = combinacoes_3(consequente)\n",
        "    if qtd_ant == 4:\n",
        "      combinacoes = combinacoes_4(consequente)\n",
        "    listacon = []\n",
        "    for combinacao in combinacoes:\n",
        "      listacon.append(combinacao)\n",
        "    listacon = [list(x) for x in listacon]\n",
        "    if qtd_ant == 2:\n",
        "      listacon = [antecedente[0], antecedente[1]]\n",
        "    for x in range (len(listacon)): #Dentro da quantidade de antecedentes, faz outro for para rodar por dentro deste valor\n",
        "      sup_antecedente = (sup[antecedente] == 't').all(axis=1).mean() #Calculo o suporte do antecedente\n",
        "      if qtd_ant != 2:\n",
        "        sup_consequente = (sup[listacon[x]] == 't').all(axis=1).mean() #Calculo o suporte do consequente\n",
        "      else:\n",
        "        sup_consequente = (sup[listacon[x]] == 't').mean() #Calculo o suporte do consequente\n",
        "\n",
        "      #Confiança\n",
        "      if sup_antecedente == 0: #Se o suporte for 0, a confiança será 0, isso não ocorrerá pois só usaremos as colunas que estavam no limiar anterior, mas fiz isso para evitar erros\n",
        "        confianca = 0\n",
        "      else:\n",
        "        confianca = sup_antecedente / sup_consequente #Caso não seja 0, aqui se calcula a confiança das colunas\n",
        "\n",
        "      confiancap = round(confianca * 100, 2) #Arredondamos o valor e transformamos em porcentagem, a fim de facilitar o entendimento\n",
        "\n",
        "      if confianca > minConfianca: #Se a confiança estiver de acordo com o limiar a regra continua\n",
        "        consequente_lift = 1 #Criamos uma variável para calcular o lift e damos o valor de 1 para não inteferir a multiplicação\n",
        "        #A utilidade dessa variável é permitir que possamos escolher qtd_antes e fazer o código funcionar sem recisar alterá-lo\n",
        "        ant_lift = antecedente.copy() #Copio a lista de antecedentes\n",
        "        for y in range(qtd_ant):\n",
        "          if antecedente[y] in listacon[x]: #Se a coluna já estiver na regra de consequente gerada anteriormente\n",
        "            ant_lift.remove(antecedente[y]) #Ele exclui as colunas\n",
        "\n",
        "        consequente_lift = sup_consequente * (sup[ant_lift] == 't').all(axis=1).mean() #consequente_lift é igual ao próprio valor multiplicado pelo suporte da próxima coluna, isso armazena todas as multiplicações\n",
        "\n",
        "          #Lift\n",
        "        if sup_antecedente == 0: #Caso dê algum erro e o valor do suporte seja 0, lift será 0\n",
        "          lift = 0\n",
        "        else:\n",
        "          lift = sup_antecedente / consequente_lift #Caso contrário, será realizado o cálculo do lift\n",
        "\n",
        "        if lift > minLift: #Se Lift estiver de acordo com o limiar, a regra continua sendo calculada\n",
        "\n",
        "          #Convicção\n",
        "          suporte_conv = (sup[ant_lift] == 't').all(axis=1).mean() #Calculo o suporte desta lista\n",
        "\n",
        "          if suporte_conv == 0: #Caso dê algum erro e o valor seja 0, convicção será 0\n",
        "            conviccao = 0\n",
        "          else:\n",
        "            conviccao = (1 - suporte_conv) / (1 - confianca) #Caso contrário, a confiança será calculada\n",
        "\n",
        "          if conviccao > minConv: #Se o confiança estar de acordo com o limiar, essa relação será uma regra forte!\n",
        "            print(f'A regra gerada foi {antecedente} =>{listacon[x]}')\n",
        "            print(f'Sua confiança foi de: {confiancap}%')\n",
        "            print(f'O Lift calculado obteve resultado de: {lift:.2f}')\n",
        "            print(f'A convicção da regra é de {conviccao:.2f}')\n",
        "            print('')\n",
        "            print(f'Com isso, podemos dizer que é uma regra forte, pois obteve associações superiores aos limiares definidos.')\n",
        "            print('')\n",
        "\n",
        "            if qtd_ant == 2 and antecedente: #Se a quantidade de colunas antecedentes for 2:\n",
        "              regras_fortes_2.add(f'{antecedente} =>{listacon[x]}') #Salvo a regra forte no set em formato de tupla\n",
        "            if qtd_ant == 3 and antecedente != listacon[x]: #Se a quantidade de colunas antecedentes for 3:\n",
        "              regras_fortes_3.add(f'{antecedente} =>{listacon[x]}') #Salvo a regra forte no set em formato de tupla\n",
        "            if qtd_ant == 4 and antecedente != listacon[x]: #Se a quantidade de colunas antecedentes for 4:\n",
        "              regras_fortes_4.add(f'{antecedente} =>{listacon[x]}') #Salvo a regra forte no set em formato de tupla\n",
        "else:\n",
        "  print(\"Quantidade de antecedentes superior a 4 ou inferior a 2!\") #Printo isto cajo a quantidade de colunas definidas anteriormente for maior que 4 ou menor que 2\n",
        "\n",
        "\n"
      ],
      "metadata": {
        "id": "jV05djUSHaj4",
        "colab": {
          "base_uri": "https://localhost:8080/"
        },
        "outputId": "1ae8a65d-0254-42d1-d20d-f777c8f96c80"
      },
      "execution_count": 61,
      "outputs": [
        {
          "output_type": "stream",
          "name": "stdout",
          "text": [
            "A regra gerada foi [\"'bread and cake'\", 'fruit', \"'laundry needs'\", 'wrapping'] =>['fruit', \"'laundry needs'\", 'wrapping']\n",
            "Sua confiança foi de: 83.6%\n",
            "O Lift calculado obteve resultado de: 1.16\n",
            "A convicção da regra é de 1.71\n",
            "\n",
            "Com isso, podemos dizer que é uma regra forte, pois obteve associações superiores aos limiares definidos.\n",
            "\n",
            "A regra gerada foi ['department1', 'biscuits', 'jams-spreads', \"'frozen foods'\"] =>['department1', 'biscuits', 'jams-spreads']\n",
            "Sua confiança foi de: 75.0%\n",
            "O Lift calculado obteve resultado de: 1.28\n",
            "A convicção da regra é de 1.65\n",
            "\n",
            "Com isso, podemos dizer que é uma regra forte, pois obteve associações superiores aos limiares definidos.\n",
            "\n",
            "A regra gerada foi ['vegetables', 'department137', 'juice-sat-cord-ms', \"'bread and cake'\"] =>['vegetables', 'department137', 'juice-sat-cord-ms']\n",
            "Sua confiança foi de: 82.38%\n",
            "O Lift calculado obteve resultado de: 1.14\n",
            "A convicção da regra é de 1.59\n",
            "\n",
            "Com isso, podemos dizer que é uma regra forte, pois obteve associações superiores aos limiares definidos.\n",
            "\n",
            "A regra gerada foi [\"'frozen foods'\", \"'baking needs'\", 'wrapping', 'coffee'] =>[\"'baking needs'\", 'wrapping', 'coffee']\n",
            "Sua confiança foi de: 75.95%\n",
            "O Lift calculado obteve resultado de: 1.29\n",
            "A convicção da regra é de 1.72\n",
            "\n",
            "Com isso, podemos dizer que é uma regra forte, pois obteve associações superiores aos limiares definidos.\n",
            "\n",
            "A regra gerada foi ['coffee', \"'dairy foods'\", 'vegetables', \"'bread and cake'\"] =>['coffee', \"'dairy foods'\", 'vegetables']\n",
            "Sua confiança foi de: 85.86%\n",
            "O Lift calculado obteve resultado de: 1.19\n",
            "A convicção da regra é de 1.98\n",
            "\n",
            "Com isso, podemos dizer que é uma regra forte, pois obteve associações superiores aos limiares definidos.\n",
            "\n",
            "A regra gerada foi ['stationary', 'wrapping', 'milk-cream', \"'baking needs'\"] =>['stationary', 'wrapping', 'milk-cream']\n",
            "Sua confiança foi de: 76.38%\n",
            "O Lift calculado obteve resultado de: 1.26\n",
            "A convicção da regra é de 1.68\n",
            "\n",
            "Com isso, podemos dizer que é uma regra forte, pois obteve associações superiores aos limiares definidos.\n",
            "\n",
            "A regra gerada foi ['fruit', 'sauces-gravy-pkle', 'confectionary', \"'dairy foods'\"] =>['sauces-gravy-pkle', 'confectionary', \"'dairy foods'\"]\n",
            "Sua confiança foi de: 75.89%\n",
            "O Lift calculado obteve resultado de: 1.19\n",
            "A convicção da regra é de 1.49\n",
            "\n",
            "Com isso, podemos dizer que é uma regra forte, pois obteve associações superiores aos limiares definidos.\n",
            "\n",
            "A regra gerada foi [\"'frozen foods'\", \"'bread and cake'\", \"'small goods2'\", \"'small goods'\"] =>[\"'bread and cake'\", \"'small goods2'\", \"'small goods'\"]\n",
            "Sua confiança foi de: 78.09%\n",
            "O Lift calculado obteve resultado de: 1.33\n",
            "A convicção da regra é de 1.88\n",
            "\n",
            "Com isso, podemos dizer que é uma regra forte, pois obteve associações superiores aos limiares definidos.\n",
            "\n",
            "A regra gerada foi [\"'baking needs'\", \"'tissues-paper prd'\", \"'small goods2'\", 'vegetables'] =>[\"'baking needs'\", \"'tissues-paper prd'\", \"'small goods2'\"]\n",
            "Sua confiança foi de: 76.23%\n",
            "O Lift calculado obteve resultado de: 1.19\n",
            "A convicção da regra é de 1.51\n",
            "\n",
            "Com isso, podemos dizer que é uma regra forte, pois obteve associações superiores aos limiares definidos.\n",
            "\n",
            "A regra gerada foi [\"'baking needs'\", \"'tissues-paper prd'\", \"'small goods2'\", 'vegetables'] =>[\"'tissues-paper prd'\", \"'small goods2'\", 'vegetables']\n",
            "Sua confiança foi de: 79.13%\n",
            "O Lift calculado obteve resultado de: 1.31\n",
            "A convicção da regra é de 1.90\n",
            "\n",
            "Com isso, podemos dizer que é uma regra forte, pois obteve associações superiores aos limiares definidos.\n",
            "\n",
            "A regra gerada foi ['margarine', \"'soft drinks'\", \"'tissues-paper prd'\", \"'bread and cake'\"] =>['margarine', \"'soft drinks'\", \"'tissues-paper prd'\"]\n",
            "Sua confiança foi de: 81.96%\n",
            "O Lift calculado obteve resultado de: 1.14\n",
            "A convicção da regra é de 1.55\n",
            "\n",
            "Com isso, podemos dizer que é uma regra forte, pois obteve associações superiores aos limiares definidos.\n",
            "\n",
            "A regra gerada foi [\"'prepared meals'\", 'confectionary', \"'small goods2'\", \"'party snack foods'\"] =>[\"'prepared meals'\", 'confectionary', \"'small goods2'\"]\n",
            "Sua confiança foi de: 78.12%\n",
            "O Lift calculado obteve resultado de: 1.55\n",
            "A convicção da regra é de 2.27\n",
            "\n",
            "Com isso, podemos dizer que é uma regra forte, pois obteve associações superiores aos limiares definidos.\n",
            "\n",
            "A regra gerada foi [\"'dairy foods'\", \"'small goods2'\", \"'frozen foods'\", \"'bread and cake'\"] =>[\"'dairy foods'\", \"'small goods2'\", \"'frozen foods'\"]\n",
            "Sua confiança foi de: 84.3%\n",
            "O Lift calculado obteve resultado de: 1.17\n",
            "A convicção da regra é de 1.79\n",
            "\n",
            "Com isso, podemos dizer que é uma regra forte, pois obteve associações superiores aos limiares definidos.\n",
            "\n",
            "A regra gerada foi [\"'baking needs'\", 'department137', 'wrapping', 'margarine'] =>['department137', 'wrapping', 'margarine']\n",
            "Sua confiança foi de: 82.72%\n",
            "O Lift calculado obteve resultado de: 1.37\n",
            "A convicção da regra é de 2.29\n",
            "\n",
            "Com isso, podemos dizer que é uma regra forte, pois obteve associações superiores aos limiares definidos.\n",
            "\n",
            "A regra gerada foi [\"'laundry needs'\", \"'prepared meals'\", 'juice-sat-cord-ms', \"'bread and cake'\"] =>[\"'laundry needs'\", \"'prepared meals'\", 'juice-sat-cord-ms']\n",
            "Sua confiança foi de: 83.16%\n",
            "O Lift calculado obteve resultado de: 1.16\n",
            "A convicção da regra é de 1.66\n",
            "\n",
            "Com isso, podemos dizer que é uma regra forte, pois obteve associações superiores aos limiares definidos.\n",
            "\n",
            "A regra gerada foi [\"'frozen foods'\", 'milk-cream', 'cleaners-polishers', \"'breakfast food'\"] =>['milk-cream', 'cleaners-polishers', \"'breakfast food'\"]\n",
            "Sua confiança foi de: 76.4%\n",
            "O Lift calculado obteve resultado de: 1.30\n",
            "A convicção da regra é de 1.75\n",
            "\n",
            "Com isso, podemos dizer que é uma regra forte, pois obteve associações superiores aos limiares definidos.\n",
            "\n",
            "A regra gerada foi [\"'canned fish-meat'\", \"'canned vegetables'\", 'cleaners-polishers', 'vegetables'] =>[\"'canned fish-meat'\", \"'canned vegetables'\", 'cleaners-polishers']\n",
            "Sua confiança foi de: 76.63%\n",
            "O Lift calculado obteve resultado de: 1.20\n",
            "A convicção da regra é de 1.54\n",
            "\n",
            "Com isso, podemos dizer que é uma regra forte, pois obteve associações superiores aos limiares definidos.\n",
            "\n",
            "A regra gerada foi [\"'small goods'\", 'vegetables', \"'soft drinks'\", 'fruit'] =>[\"'small goods'\", 'vegetables', \"'soft drinks'\"]\n",
            "Sua confiança foi de: 83.12%\n",
            "O Lift calculado obteve resultado de: 1.30\n",
            "A convicção da regra é de 2.13\n",
            "\n",
            "Com isso, podemos dizer que é uma regra forte, pois obteve associações superiores aos limiares definidos.\n",
            "\n",
            "A regra gerada foi [\"'frozen foods'\", 'department122', \"'dental needs'\", 'beef'] =>['department122', \"'dental needs'\", 'beef']\n",
            "Sua confiança foi de: 83.85%\n",
            "O Lift calculado obteve resultado de: 1.43\n",
            "A convicção da regra é de 2.56\n",
            "\n",
            "Com isso, podemos dizer que é uma regra forte, pois obteve associações superiores aos limiares definidos.\n",
            "\n",
            "A regra gerada foi [\"'frozen foods'\", 'beef', 'sauces-gravy-pkle', \"'tissues-paper prd'\"] =>['beef', 'sauces-gravy-pkle', \"'tissues-paper prd'\"]\n",
            "Sua confiança foi de: 78.67%\n",
            "O Lift calculado obteve resultado de: 1.34\n",
            "A convicção da regra é de 1.93\n",
            "\n",
            "Com isso, podemos dizer que é uma regra forte, pois obteve associações superiores aos limiares definidos.\n",
            "\n",
            "A regra gerada foi [\"'dental needs'\", 'jams-spreads', \"'small goods'\", \"'frozen foods'\"] =>[\"'dental needs'\", 'jams-spreads', \"'small goods'\"]\n",
            "Sua confiança foi de: 84.62%\n",
            "O Lift calculado obteve resultado de: 1.44\n",
            "A convicção da regra é de 2.68\n",
            "\n",
            "Com isso, podemos dizer que é uma regra forte, pois obteve associações superiores aos limiares definidos.\n",
            "\n",
            "A regra gerada foi ['biscuits', \"'dairy foods'\", 'deodorants-soap', \"'dental needs'\"] =>[\"'dairy foods'\", 'deodorants-soap', \"'dental needs'\"]\n",
            "Sua confiança foi de: 77.63%\n",
            "O Lift calculado obteve resultado de: 1.38\n",
            "A convicção da regra é de 1.95\n",
            "\n",
            "Com isso, podemos dizer que é uma regra forte, pois obteve associações superiores aos limiares definidos.\n",
            "\n",
            "A regra gerada foi ['beef', \"'soft drinks'\", 'milk-cream', 'vegetables'] =>['beef', \"'soft drinks'\", 'milk-cream']\n",
            "Sua confiança foi de: 79.2%\n",
            "O Lift calculado obteve resultado de: 1.24\n",
            "A convicção da regra é de 1.73\n",
            "\n",
            "Com isso, podemos dizer que é uma regra forte, pois obteve associações superiores aos limiares definidos.\n",
            "\n",
            "A regra gerada foi ['deodorants-soap', \"'bread and cake'\", \"'soft drinks'\", \"'frozen foods'\"] =>['deodorants-soap', \"'bread and cake'\", \"'soft drinks'\"]\n",
            "Sua confiança foi de: 78.86%\n",
            "O Lift calculado obteve resultado de: 1.34\n",
            "A convicção da regra é de 1.95\n",
            "\n",
            "Com isso, podemos dizer que é uma regra forte, pois obteve associações superiores aos limiares definidos.\n",
            "\n",
            "A regra gerada foi [\"'bread and cake'\", 'confectionary', \"'tissues-paper prd'\", \"'small goods2'\"] =>['confectionary', \"'tissues-paper prd'\", \"'small goods2'\"]\n",
            "Sua confiança foi de: 86.38%\n",
            "O Lift calculado obteve resultado de: 1.20\n",
            "A convicção da regra é de 2.06\n",
            "\n",
            "Com isso, podemos dizer que é uma regra forte, pois obteve associações superiores aos limiares definidos.\n",
            "\n",
            "A regra gerada foi ['fruit', 'beef', \"'canned fruit'\", \"'laundry needs'\"] =>['beef', \"'canned fruit'\", \"'laundry needs'\"]\n",
            "Sua confiança foi de: 81.92%\n",
            "O Lift calculado obteve resultado de: 1.28\n",
            "A convicção da regra é de 1.99\n",
            "\n",
            "Com isso, podemos dizer que é uma regra forte, pois obteve associações superiores aos limiares definidos.\n",
            "\n",
            "A regra gerada foi ['biscuits', 'cheese', 'stationary', 'juice-sat-cord-ms'] =>['cheese', 'stationary', 'juice-sat-cord-ms']\n",
            "Sua confiança foi de: 75.32%\n",
            "O Lift calculado obteve resultado de: 1.34\n",
            "A convicção da regra é de 1.77\n",
            "\n",
            "Com isso, podemos dizer que é uma regra forte, pois obteve associações superiores aos limiares definidos.\n",
            "\n",
            "A regra gerada foi ['wrapping', 'biscuits', \"'canned fish-meat'\", 'fruit'] =>['wrapping', 'biscuits', \"'canned fish-meat'\"]\n",
            "Sua confiança foi de: 76.95%\n",
            "O Lift calculado obteve resultado de: 1.20\n",
            "A convicção da regra é de 1.56\n",
            "\n",
            "Com isso, podemos dizer que é uma regra forte, pois obteve associações superiores aos limiares definidos.\n",
            "\n"
          ]
        }
      ]
    },
    {
      "cell_type": "markdown",
      "source": [
        "#4. Conclusões:"
      ],
      "metadata": {
        "id": "bN-LG9o6z52g"
      }
    },
    {
      "cell_type": "markdown",
      "source": [
        "#4.1. Conclusões de desconto:"
      ],
      "metadata": {
        "id": "TQC3NcZ10cgS"
      }
    },
    {
      "cell_type": "markdown",
      "source": [
        "De acordo com conhecimento empírico, podemos concluir que setores com 75% de compra são considerados presentes em todos os carrinhos, e uma promoção não iria fazer tanta diferença, já que mesmo sem promoção o produto vende na grande maioria dos casos."
      ],
      "metadata": {
        "id": "aDaTFAyQ0h0h"
      }
    },
    {
      "cell_type": "markdown",
      "source": [
        "E setores com menos de 40% de venda são considerados dependentes e/ou não tão escolhidos, então acredito que setores com valores superiores a 40% e até 60% de conversão em venda são os ideais para serem colocados em desconto, isto é, promoções singulares (Do tipo \"Em compras acima de 2 produtos\", desconto de preços convencionais, etc) que não dependem de outro produto para entrar em desconto."
      ],
      "metadata": {
        "id": "mDgo9WGW01Va"
      }
    },
    {
      "cell_type": "code",
      "source": [
        "minSuporteConclusao = 0.4 #Defino o limiar mínimo\n",
        "maxSuporteConclusao = 0.6 #Defino o limiar máximo\n",
        "\n",
        "for a in range (len(colunaslimiar)): #Em a no tamanho da variável colunas limiar:\n",
        "  sup_conclusao = (sup[colunaslimiar[a]] == 't').mean() #Calcula o suporte das colunas\n",
        "  if maxSuporteConclusao >= sup_conclusao >= minSuporteConclusao: #Separa os suportes dentro dos limiares\n",
        "    print(f'Seria de interesse do mercado a promoção do produto/setor {colunaslimiar[a]}') #Printa quais produtos/setores deveriam ser descontados"
      ],
      "metadata": {
        "colab": {
          "base_uri": "https://localhost:8080/"
        },
        "id": "eBzgu36C0gvl",
        "outputId": "81452941-9571-4ed0-d74b-67a28603b691"
      },
      "execution_count": 49,
      "outputs": [
        {
          "output_type": "stream",
          "name": "stdout",
          "text": [
            "Seria de interesse do mercado a promoção do produto/setor juice-sat-cord-ms\n",
            "Seria de interesse do mercado a promoção do produto/setor biscuits\n",
            "Seria de interesse do mercado a promoção do produto/setor 'breakfast food'\n",
            "Seria de interesse do mercado a promoção do produto/setor sauces-gravy-pkle\n",
            "Seria de interesse do mercado a promoção do produto/setor 'frozen foods'\n",
            "Seria de interesse do mercado a promoção do produto/setor 'pet foods'\n",
            "Seria de interesse do mercado a promoção do produto/setor 'party snack foods'\n",
            "Seria de interesse do mercado a promoção do produto/setor 'tissues-paper prd'\n",
            "Seria de interesse do mercado a promoção do produto/setor 'soft drinks'\n",
            "Seria de interesse do mercado a promoção do produto/setor cheese\n",
            "Seria de interesse do mercado a promoção do produto/setor margarine\n",
            "Seria de interesse do mercado a promoção do produto/setor department137\n"
          ]
        }
      ]
    },
    {
      "cell_type": "markdown",
      "source": [
        "Especificamente falando:\n",
        "\n",
        "* Na compra de 2 pacotes da mesma marca na seção 'biscuits', a terceira sai com 20% de desconto (Incentivando a compra de pelo menos 3 pacotes, assim como no atacado)\n",
        "* A partir de 300g de queijo o valor sai com 10% de desconto.\n",
        "* E em setores de compra de unidades de produto como 'juice-sat-cord-ms', -tissues-paper prd' e outros, caberia uma promoção generalizada dos produtos."
      ],
      "metadata": {
        "id": "Fsm3M8PK3kgE"
      }
    },
    {
      "cell_type": "markdown",
      "source": [
        "#4.2. Conclusões de setores de alto retorno:"
      ],
      "metadata": {
        "id": "504PwfBB47LV"
      }
    },
    {
      "cell_type": "code",
      "source": [
        "minSupAltoRetorno = 0.636 #Defino um limiar com o intuito de obter apenas os produtos de alta conversão\n",
        "\n",
        "for a in range (len(colunaslimiar)): #Para a no tamanho da variável colunaslimiar\n",
        "  sup_conclusao = (sup[colunaslimiar[a]] == 't').mean() #Calculo o suporte das colunas\n",
        "  if sup_conclusao >= minSupAltoRetorno: #Se estiver dentro do limiar\n",
        "    print(f'Seria de interesse do mercado a localização estratégica do produto/setor {colunaslimiar[a]}') #Printo os setores de alta conversão"
      ],
      "metadata": {
        "colab": {
          "base_uri": "https://localhost:8080/"
        },
        "id": "LPeMnJxC4_IP",
        "outputId": "7309f2df-a56f-4917-dc2f-c1c3ae2d9869"
      },
      "execution_count": 50,
      "outputs": [
        {
          "output_type": "stream",
          "name": "stdout",
          "text": [
            "Seria de interesse do mercado a localização estratégica do produto/setor 'bread and cake'\n",
            "Seria de interesse do mercado a localização estratégica do produto/setor fruit\n",
            "Seria de interesse do mercado a localização estratégica do produto/setor vegetables\n"
          ]
        }
      ]
    },
    {
      "cell_type": "markdown",
      "source": [
        "Assim como na maioria dos mercados, as padarias e hortifruits são sempre localizadas no final do supermerdado, pois como produtos deste setor são sempre os mais comprados, os clientes vão ir de qualquer jeito até lá, então quanto maior o caminho, mais produtos eles verão."
      ],
      "metadata": {
        "id": "ycRdgMel5X6q"
      }
    },
    {
      "cell_type": "markdown",
      "source": [
        "#4.3. Conclusões com listas de regras fortes:"
      ],
      "metadata": {
        "id": "vM3Nf-p40Mnv"
      }
    },
    {
      "cell_type": "markdown",
      "source": [
        "#4.3.1. Regras de 2 colunas"
      ],
      "metadata": {
        "id": "LtpJRpw-0RAi"
      }
    },
    {
      "cell_type": "code",
      "source": [
        "regras_fortes_2"
      ],
      "metadata": {
        "colab": {
          "base_uri": "https://localhost:8080/"
        },
        "id": "FzksWGns0VcP",
        "outputId": "154537dc-cad2-4ce1-a5cf-792b0b39f0be"
      },
      "execution_count": 51,
      "outputs": [
        {
          "output_type": "execute_result",
          "data": {
            "text/plain": [
              "{'[\"\\'baking needs\\'\", \"\\'bread and cake\\'\"] =>\\'baking needs\\'',\n",
              " '[\"\\'bread and cake\\'\", \\'sauces-gravy-pkle\\'] =>sauces-gravy-pkle',\n",
              " '[\"\\'canned vegetables\\'\", \"\\'bread and cake\\'\"] =>\\'canned vegetables\\'',\n",
              " '[\"\\'pet foods\\'\", \"\\'bread and cake\\'\"] =>\\'pet foods\\'',\n",
              " '[\\'margarine\\', \"\\'bread and cake\\'\"] =>margarine',\n",
              " '[\\'wrapping\\', \"\\'bread and cake\\'\"] =>wrapping'}"
            ]
          },
          "metadata": {},
          "execution_count": 51
        }
      ]
    },
    {
      "cell_type": "markdown",
      "source": [
        "Como o setor 'bread and cake' foi o único que apareceu em todas, da para concluir que os outros itens são comprados em conformidade com a compra deste item.\n",
        "\n",
        "Com isso podemos concluir que:\n",
        "* Como a compra de pãe já é de alta conversão, em comprar a partir de 6 pães ou o equivalente em gramas, categorias como 'jams-spreads' terão desconto de 10%\n",
        "* Como a margarina em nossa cultura ja é bastante utilizada com pães, ao invés de desconto, seria interessante deixá-los próximos aos pães, bem como itens da categoria 'small goods'."
      ],
      "metadata": {
        "id": "uNSl_Dyu4j9s"
      }
    },
    {
      "cell_type": "markdown",
      "source": [
        "#4.3.2. Regras com 3 colunas:"
      ],
      "metadata": {
        "id": "KmE6KbQq63tW"
      }
    },
    {
      "cell_type": "code",
      "source": [
        "regras_fortes_3"
      ],
      "metadata": {
        "colab": {
          "base_uri": "https://localhost:8080/"
        },
        "id": "SCiFqh6763TD",
        "outputId": "00db8338-7807-4598-a283-6ee2cfa8eddb"
      },
      "execution_count": 62,
      "outputs": [
        {
          "output_type": "execute_result",
          "data": {
            "text/plain": [
              "{'[\"\\'baking needs\\'\", \\'cleaners-polishers\\', \\'department1\\'] =>[\\'cleaners-polishers\\', \\'department1\\']',\n",
              " '[\"\\'baking needs\\'\", \\'sauces-gravy-pkle\\', \\'margarine\\'] =>[\\'sauces-gravy-pkle\\', \\'margarine\\']',\n",
              " '[\"\\'bread and cake\\'\", \\'department1\\', \"\\'small goods2\\'\"] =>[\\'department1\\', \"\\'small goods2\\'\"]',\n",
              " '[\"\\'canned fruit\\'\", \\'deodorants-soap\\', \"\\'baking needs\\'\"] =>[\"\\'canned fruit\\'\", \\'deodorants-soap\\']',\n",
              " '[\"\\'dental needs\\'\", \"\\'breakfast food\\'\", \"\\'baking needs\\'\"] =>[\"\\'dental needs\\'\", \"\\'breakfast food\\'\"]',\n",
              " '[\"\\'dental needs\\'\", \\'beef\\', \"\\'bread and cake\\'\"] =>[\"\\'dental needs\\'\", \\'beef\\']',\n",
              " '[\"\\'dental needs\\'\", \\'department122\\', \\'vegetables\\'] =>[\"\\'dental needs\\'\", \\'department122\\']',\n",
              " \"['cleaners-polishers', 'department137', 'vegetables'] =>['cleaners-polishers', 'department137']\",\n",
              " '[\\'deodorants-soap\\', \\'margarine\\', \"\\'baking needs\\'\"] =>[\\'deodorants-soap\\', \\'margarine\\']',\n",
              " '[\\'jams-spreads\\', \\'cleaners-polishers\\', \"\\'bread and cake\\'\"] =>[\\'jams-spreads\\', \\'cleaners-polishers\\']',\n",
              " '[\\'vegetables\\', \"\\'canned vegetables\\'\", \\'department137\\'] =>[\"\\'canned vegetables\\'\", \\'department137\\']'}"
            ]
          },
          "metadata": {},
          "execution_count": 62
        }
      ]
    },
    {
      "cell_type": "markdown",
      "source": [
        "Como a maioria das associações são relacionadas aos conjuntos de itens de Padaria e Hortifruit, seria interessante o posicionamento estratégico dos setores não só no fim do mercado, mas com distâncias entre si também, por exeplo:\n",
        "\n",
        "* Enquanto a entrada fica na posição inferior centrar do supermercado, o Hortifruit fica na posição superior esquerda e a Padaria na posição superior direita, fazendo com que os clientes transitem mais ainda pelo mercado, aumentando a compra de diversos outros itens que também já foram colocados em promoção nas propostas anteriores."
      ],
      "metadata": {
        "id": "_410iy7x7OZ0"
      }
    },
    {
      "cell_type": "markdown",
      "source": [
        "#4.3.3. Regras com 4 colunas:"
      ],
      "metadata": {
        "id": "ZIGggMxE0Y13"
      }
    },
    {
      "cell_type": "code",
      "source": [
        "regras_fortes_4"
      ],
      "metadata": {
        "colab": {
          "base_uri": "https://localhost:8080/"
        },
        "id": "b6PYt_Vg0Kwq",
        "outputId": "78b3aec9-0ba5-415e-c055-06a5635ddb66"
      },
      "execution_count": 63,
      "outputs": [
        {
          "output_type": "execute_result",
          "data": {
            "text/plain": [
              "{'[\"\\'baking needs\\'\", \"\\'tissues-paper prd\\'\", \"\\'small goods2\\'\", \\'vegetables\\'] =>[\"\\'baking needs\\'\", \"\\'tissues-paper prd\\'\", \"\\'small goods2\\'\"]',\n",
              " '[\"\\'baking needs\\'\", \"\\'tissues-paper prd\\'\", \"\\'small goods2\\'\", \\'vegetables\\'] =>[\"\\'tissues-paper prd\\'\", \"\\'small goods2\\'\", \\'vegetables\\']',\n",
              " '[\"\\'baking needs\\'\", \\'department137\\', \\'wrapping\\', \\'margarine\\'] =>[\\'department137\\', \\'wrapping\\', \\'margarine\\']',\n",
              " '[\"\\'bread and cake\\'\", \\'confectionary\\', \"\\'tissues-paper prd\\'\", \"\\'small goods2\\'\"] =>[\\'confectionary\\', \"\\'tissues-paper prd\\'\", \"\\'small goods2\\'\"]',\n",
              " '[\"\\'bread and cake\\'\", \\'fruit\\', \"\\'laundry needs\\'\", \\'wrapping\\'] =>[\\'fruit\\', \"\\'laundry needs\\'\", \\'wrapping\\']',\n",
              " '[\"\\'canned fish-meat\\'\", \"\\'canned vegetables\\'\", \\'cleaners-polishers\\', \\'vegetables\\'] =>[\"\\'canned fish-meat\\'\", \"\\'canned vegetables\\'\", \\'cleaners-polishers\\']',\n",
              " '[\"\\'dairy foods\\'\", \"\\'small goods2\\'\", \"\\'frozen foods\\'\", \"\\'bread and cake\\'\"] =>[\"\\'dairy foods\\'\", \"\\'small goods2\\'\", \"\\'frozen foods\\'\"]',\n",
              " '[\"\\'dental needs\\'\", \\'jams-spreads\\', \"\\'small goods\\'\", \"\\'frozen foods\\'\"] =>[\"\\'dental needs\\'\", \\'jams-spreads\\', \"\\'small goods\\'\"]',\n",
              " '[\"\\'frozen foods\\'\", \"\\'baking needs\\'\", \\'wrapping\\', \\'coffee\\'] =>[\"\\'baking needs\\'\", \\'wrapping\\', \\'coffee\\']',\n",
              " '[\"\\'frozen foods\\'\", \"\\'bread and cake\\'\", \"\\'small goods2\\'\", \"\\'small goods\\'\"] =>[\"\\'bread and cake\\'\", \"\\'small goods2\\'\", \"\\'small goods\\'\"]',\n",
              " '[\"\\'frozen foods\\'\", \\'beef\\', \\'sauces-gravy-pkle\\', \"\\'tissues-paper prd\\'\"] =>[\\'beef\\', \\'sauces-gravy-pkle\\', \"\\'tissues-paper prd\\'\"]',\n",
              " '[\"\\'frozen foods\\'\", \\'department122\\', \"\\'dental needs\\'\", \\'beef\\'] =>[\\'department122\\', \"\\'dental needs\\'\", \\'beef\\']',\n",
              " '[\"\\'frozen foods\\'\", \\'milk-cream\\', \\'cleaners-polishers\\', \"\\'breakfast food\\'\"] =>[\\'milk-cream\\', \\'cleaners-polishers\\', \"\\'breakfast food\\'\"]',\n",
              " '[\"\\'laundry needs\\'\", \"\\'prepared meals\\'\", \\'juice-sat-cord-ms\\', \"\\'bread and cake\\'\"] =>[\"\\'laundry needs\\'\", \"\\'prepared meals\\'\", \\'juice-sat-cord-ms\\']',\n",
              " '[\"\\'prepared meals\\'\", \\'confectionary\\', \"\\'small goods2\\'\", \"\\'party snack foods\\'\"] =>[\"\\'prepared meals\\'\", \\'confectionary\\', \"\\'small goods2\\'\"]',\n",
              " '[\"\\'small goods\\'\", \\'vegetables\\', \"\\'soft drinks\\'\", \\'fruit\\'] =>[\"\\'small goods\\'\", \\'vegetables\\', \"\\'soft drinks\\'\"]',\n",
              " '[\\'beef\\', \"\\'soft drinks\\'\", \\'milk-cream\\', \\'vegetables\\'] =>[\\'beef\\', \"\\'soft drinks\\'\", \\'milk-cream\\']',\n",
              " '[\\'biscuits\\', \"\\'dairy foods\\'\", \\'deodorants-soap\\', \"\\'dental needs\\'\"] =>[\"\\'dairy foods\\'\", \\'deodorants-soap\\', \"\\'dental needs\\'\"]',\n",
              " \"['biscuits', 'cheese', 'stationary', 'juice-sat-cord-ms'] =>['cheese', 'stationary', 'juice-sat-cord-ms']\",\n",
              " '[\\'coffee\\', \"\\'dairy foods\\'\", \\'vegetables\\', \"\\'bread and cake\\'\"] =>[\\'coffee\\', \"\\'dairy foods\\'\", \\'vegetables\\']',\n",
              " '[\\'deodorants-soap\\', \"\\'bread and cake\\'\", \"\\'soft drinks\\'\", \"\\'frozen foods\\'\"] =>[\\'deodorants-soap\\', \"\\'bread and cake\\'\", \"\\'soft drinks\\'\"]',\n",
              " '[\\'department1\\', \\'biscuits\\', \\'jams-spreads\\', \"\\'frozen foods\\'\"] =>[\\'department1\\', \\'biscuits\\', \\'jams-spreads\\']',\n",
              " '[\\'fruit\\', \\'beef\\', \"\\'canned fruit\\'\", \"\\'laundry needs\\'\"] =>[\\'beef\\', \"\\'canned fruit\\'\", \"\\'laundry needs\\'\"]',\n",
              " '[\\'fruit\\', \\'sauces-gravy-pkle\\', \\'confectionary\\', \"\\'dairy foods\\'\"] =>[\\'sauces-gravy-pkle\\', \\'confectionary\\', \"\\'dairy foods\\'\"]',\n",
              " '[\\'margarine\\', \"\\'soft drinks\\'\", \"\\'tissues-paper prd\\'\", \"\\'bread and cake\\'\"] =>[\\'margarine\\', \"\\'soft drinks\\'\", \"\\'tissues-paper prd\\'\"]',\n",
              " '[\\'stationary\\', \\'wrapping\\', \\'milk-cream\\', \"\\'baking needs\\'\"] =>[\\'stationary\\', \\'wrapping\\', \\'milk-cream\\']',\n",
              " '[\\'vegetables\\', \\'department137\\', \\'juice-sat-cord-ms\\', \"\\'bread and cake\\'\"] =>[\\'vegetables\\', \\'department137\\', \\'juice-sat-cord-ms\\']',\n",
              " '[\\'wrapping\\', \\'biscuits\\', \"\\'canned fish-meat\\'\", \\'fruit\\'] =>[\\'wrapping\\', \\'biscuits\\', \"\\'canned fish-meat\\'\"]'}"
            ]
          },
          "metadata": {},
          "execution_count": 63
        }
      ]
    },
    {
      "cell_type": "markdown",
      "source": [
        "Bem como citado anteriormente, se sobressai a relação destes setores nos carrinhos, mas com a relação de 'canned fruit' podemos dizer que também seria interessantes a realocação deste setor entre o Hortifruit e a Padaria, e além disso descontar seu valor unitariamente ou com relação a comprar em 'bread and cake', já que o uso de frutas frescas ou enlatadas é sim relacionado com a compra de bolos."
      ],
      "metadata": {
        "id": "PMfAw97K-gXO"
      }
    }
  ]
}